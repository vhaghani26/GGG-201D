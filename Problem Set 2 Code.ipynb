{
 "cells": [
  {
   "cell_type": "markdown",
   "metadata": {},
   "source": [
    "# Problem Set 2"
   ]
  },
  {
   "cell_type": "markdown",
   "metadata": {},
   "source": [
    "All imports"
   ]
  },
  {
   "cell_type": "code",
   "execution_count": 1,
   "metadata": {},
   "outputs": [],
   "source": [
    "import math\n",
    "import matplotlib.pyplot as plt"
   ]
  },
  {
   "cell_type": "markdown",
   "metadata": {},
   "source": [
    "## Question 1A"
   ]
  },
  {
   "cell_type": "markdown",
   "metadata": {},
   "source": [
    "Make necessary list(s)"
   ]
  },
  {
   "cell_type": "code",
   "execution_count": 5,
   "metadata": {},
   "outputs": [],
   "source": [
    "# Different starting allele frequencies for allele A\n",
    "allele_A_freqs = [0, 0.1, 0.2, 0.3, 0.4, 0.5, 0.6, 0.7, 0.8, 0.9, 1]\n",
    "gen1_long_list = []\n",
    "# Possible numbers of A allele\n",
    "num_A = [0, 1, 2, 3, 4, 5, 6, 7, 8, 9, 10, 11, 12, 13, 14, 15, 16, 17, 18, 19, 20]\n",
    "# Probabilities from Wright-Fisher Model\n",
    "wfm_list = []\n",
    "# Frequency of allele A in generation 2\n",
    "allele_A_gen2_freq = []\n",
    "# Change in allele frequencies\n",
    "delta_A = []\n",
    "# Gen 1 - Delta f(A) and Gen 1 + Delta f(A)\n",
    "gen_min_delA = []\n",
    "gen_plus_delA = []"
   ]
  },
  {
   "cell_type": "markdown",
   "metadata": {},
   "source": [
    "Make necessary variable(s)"
   ]
  },
  {
   "cell_type": "code",
   "execution_count": 6,
   "metadata": {},
   "outputs": [],
   "source": [
    "# Variable to represent number of alleles\n",
    "allele_count = 20"
   ]
  },
  {
   "cell_type": "markdown",
   "metadata": {},
   "source": [
    "Calculate the number of combinations for n choose x"
   ]
  },
  {
   "cell_type": "code",
   "execution_count": 7,
   "metadata": {},
   "outputs": [],
   "source": [
    "def calc_combinations(n, x):\n",
    "    combinations = math.factorial(n)/((math.factorial(x))*(math.factorial(n-x)))\n",
    "    return combinations"
   ]
  },
  {
   "cell_type": "markdown",
   "metadata": {},
   "source": [
    "Calculate Wright-Fisher Model probabilities"
   ]
  },
  {
   "cell_type": "code",
   "execution_count": 9,
   "metadata": {},
   "outputs": [],
   "source": [
    "for freq in allele_A_freqs:\n",
    "    for i in num_A:\n",
    "        possible_combinations = calc_combinations(allele_count, i)\n",
    "        wfm = possible_combinations * (freq**i) * ((1-freq)**(allele_count - i))\n",
    "        wfm_list.append(wfm)"
   ]
  },
  {
   "cell_type": "markdown",
   "metadata": {},
   "source": [
    "Determine frequency of allele A in generation 2"
   ]
  },
  {
   "cell_type": "code",
   "execution_count": 10,
   "metadata": {},
   "outputs": [],
   "source": [
    "increments = 1/allele_count\n",
    "i = -0.05\n",
    "while i <= 1:\n",
    "    i += increments\n",
    "    allele_A_gen2_freq.append(round(i, 2))"
   ]
  },
  {
   "cell_type": "markdown",
   "metadata": {},
   "source": [
    "Determine change in f(A)"
   ]
  },
  {
   "cell_type": "code",
   "execution_count": 11,
   "metadata": {},
   "outputs": [],
   "source": [
    "for gen1 in allele_A_freqs:\n",
    "    for gen2 in allele_A_gen2_freq:\n",
    "        delta = abs(gen2 - gen1)\n",
    "        delta_A.append(round(delta, 2))"
   ]
  },
  {
   "cell_type": "markdown",
   "metadata": {},
   "source": [
    "Determine possible changes in allele frequencies"
   ]
  },
  {
   "cell_type": "code",
   "execution_count": 12,
   "metadata": {},
   "outputs": [],
   "source": [
    "# Expand allele_A_freqs list entries to make long list for math operations\n",
    "for gen1 in allele_A_freqs:\n",
    "    gen1_long_list.extend([gen1, gen1, gen1, gen1, gen1, gen1, gen1, gen1, gen1, gen1, gen1, gen1, gen1, gen1, gen1, gen1, gen1, gen1, gen1, gen1, ])\n",
    "\n",
    "# Make f(A) in Generation 1 +/- delta f(A) lists\n",
    "zip_object = zip(gen1_long_list, delta_A)\n",
    "for gen1_long_list_i, delta_A_i in zip_object:\n",
    "    gen_min_delA.append(round((gen1_long_list_i - delta_A_i), 2))\n",
    "    gen_plus_delA.append(round((gen1_long_list_i + delta_A_i), 2))"
   ]
  },
  {
   "cell_type": "markdown",
   "metadata": {},
   "source": [
    "Give up here because I don't know how to code the probability matching. I shifted to Excel for the matching and then took the final data to make the list to generate the scatter plot."
   ]
  },
  {
   "cell_type": "code",
   "execution_count": 14,
   "metadata": {},
   "outputs": [
    {
     "data": {
      "image/png": "[encoded data removed]",
      "text/plain": [
       "<Figure size 432x288 with 1 Axes>"
      ]
     },
     "metadata": {
      "needs_background": "light"
     },
     "output_type": "display_data"
    }
   ],
   "source": [
    "# Generate a scatter plot to show expected change in allele frequency after one generation\n",
    "# Expected change in allele frequencies (from Excel sheet)\n",
    "y = [0, 0.051332365, 0.069823809, 0.080248996, 0.086244153, 0.088098526, 0.086237203, 0.080025259, 0.067164503, 0.044150059, 0]\n",
    "\n",
    "plt.scatter(allele_A_freqs, y)\n",
    "plt.title('Expected Change in Allele Frequency after One Generation (Question 1A)')\n",
    "plt.xlabel('Frequency of Allele A (f(A))')\n",
    "plt.ylabel('Expected Change in f(A)')\n",
    "plt.show()"
   ]
  },
  {
   "cell_type": "markdown",
   "metadata": {},
   "source": [
    "## Question 1B"
   ]
  },
  {
   "cell_type": "markdown",
   "metadata": {},
   "source": [
    "Make necessary list(s)"
   ]
  },
  {
   "cell_type": "code",
   "execution_count": 15,
   "metadata": {},
   "outputs": [],
   "source": [
    "# Make a list for population size\n",
    "pop_size = [10, 20, 30, 40, 50, 60, 70, 80, 90, 100]\n",
    "# Make a list for expected change in allele frequency after one generation\n",
    "expected_delta_A = [0.123046875, 0.088097572, 0.072232224, 0.062685344, 0.056137586, 0.051289087, 0.047512737, 0.044463939, 0.041935561, 0.039794619]"
   ]
  },
  {
   "cell_type": "markdown",
   "metadata": {},
   "source": [
    "I just did the work in Excel following the same steps as in Question 1A, but plotted the scatter plot using the code below."
   ]
  },
  {
   "cell_type": "code",
   "execution_count": 16,
   "metadata": {},
   "outputs": [
    {
     "data": {
      "image/png": "[encoded data removed]",
      "text/plain": [
       "<Figure size 432x288 with 1 Axes>"
      ]
     },
     "metadata": {
      "needs_background": "light"
     },
     "output_type": "display_data"
    }
   ],
   "source": [
    "plt.scatter(pop_size, expected_delta_A)\n",
    "plt.title('Expected Change in Allele Frequency after One Generation (Question 1B)')\n",
    "plt.xlabel('Population Size (2N)')\n",
    "plt.ylabel('Expected Change in f(A)')\n",
    "plt.show()"
   ]
  },
  {
   "cell_type": "markdown",
   "metadata": {},
   "source": [
    "## Question 3"
   ]
  },
  {
   "cell_type": "markdown",
   "metadata": {},
   "source": [
    "Make necessary list(s)"
   ]
  },
  {
   "cell_type": "code",
   "execution_count": 17,
   "metadata": {},
   "outputs": [],
   "source": [
    "# Make a list for number of gene copies\n",
    "gene_copies = []\n",
    "# Make a list for coalescent event values (3.1)\n",
    "coal_event = []\n",
    "# Make a list for generations to MRCA for all gene copies (3.2)\n",
    "mrca = []\n",
    "# Make a list for total tree length (3.3)\n",
    "ttl = []"
   ]
  },
  {
   "cell_type": "markdown",
   "metadata": {},
   "source": [
    "Question 3.1"
   ]
  },
  {
   "cell_type": "code",
   "execution_count": 18,
   "metadata": {},
   "outputs": [],
   "source": [
    "for i in range(2,51):\n",
    "    gene_copies.append(i)\n",
    "\n",
    "for copy in gene_copies:\n",
    "    value = 2/((copy*(copy-1))/2)\n",
    "    coal_event.append(value)"
   ]
  },
  {
   "cell_type": "markdown",
   "metadata": {},
   "source": [
    "Question 3.2"
   ]
  },
  {
   "cell_type": "code",
   "execution_count": 19,
   "metadata": {},
   "outputs": [],
   "source": [
    "initial = 0\n",
    "\n",
    "for copy in gene_copies:\n",
    "    i = (2/((copy*(copy-1))/2))\n",
    "    initial += i\n",
    "    mrca.append(initial)"
   ]
  },
  {
   "cell_type": "markdown",
   "metadata": {},
   "source": [
    "Question 3.3"
   ]
  },
  {
   "cell_type": "code",
   "execution_count": 20,
   "metadata": {},
   "outputs": [],
   "source": [
    "init = 0\n",
    "\n",
    "for copy in gene_copies:\n",
    "    i = (2/((copy*(copy-1))/2)) * copy\n",
    "    init += i\n",
    "    ttl.append(init)"
   ]
  },
  {
   "cell_type": "markdown",
   "metadata": {},
   "source": [
    "Make the scatter plot for all the data"
   ]
  },
  {
   "cell_type": "code",
   "execution_count": 21,
   "metadata": {},
   "outputs": [
    {
     "data": {
      "image/png": "[encoded data removed]",
      "text/plain": [
       "<Figure size 432x288 with 1 Axes>"
      ]
     },
     "metadata": {
      "needs_background": "light"
     },
     "output_type": "display_data"
    }
   ],
   "source": [
    "# Generate a scatter plot to show the time to first coalescent event \n",
    "plt.scatter(gene_copies, coal_event)\n",
    "# Generate a scatter plot to show the time to first coalescent event \n",
    "plt.scatter(gene_copies, mrca)\n",
    "# Generate a scatter plot to show everything from Problem 3.1-3.3 \n",
    "plt.scatter(gene_copies, ttl)\n",
    "\n",
    "plt.title('Properties of the Coalescent Process in a Wright-Fisher Population')\n",
    "plt.xlabel('Number of Gene Copies')\n",
    "plt.ylabel('Expected Number of Generations (N)')\n",
    "plt.show()"
   ]
  }
 ],
 "metadata": {
  "kernelspec": {
   "display_name": "Python 3",
   "language": "python",
   "name": "python3"
  },
  "language_info": {
   "codemirror_mode": {
    "name": "ipython",
    "version": 3
   },
   "file_extension": ".py",
   "mimetype": "text/x-python",
   "name": "python",
   "nbconvert_exporter": "python",
   "pygments_lexer": "ipython3",
   "version": "3.6.13"
  }
 },
 "nbformat": 4,
 "nbformat_minor": 2
}
